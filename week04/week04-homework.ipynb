{
 "cells": [
  {
   "cell_type": "markdown",
   "id": "8174e519",
   "metadata": {},
   "source": [
    "<center>\n",
    "\n",
    "# **Fall 2025 &mdash; CIS 3803<br>Introduction to Data Science**\n",
    "### Week 4 Homework: Playing with Visualizations\n",
    "\n",
    "</center>"
   ]
  },
  {
   "cell_type": "markdown",
   "id": "45b5f0a6",
   "metadata": {},
   "source": [
    "**Assigned Date:** 22 September 2025  \n",
    "**Due Date:** 06 October 2025 @ 6 PM CT\n",
    "\n",
    "Please upload your Jupyter Notebook and necessary data files to Canvas."
   ]
  },
  {
   "cell_type": "markdown",
   "id": "1fdb0a26",
   "metadata": {},
   "source": [
    "## Homework Assignment: Data Visualization \n",
    "\n",
    "**Instructions:**\n",
    "Rename this Jupyter Notebook `yourlastname_week04_homework.ipynb`. For this assignment, you will work with a provided sales dataset. Complete each section by writing the required code in separate cells. Add brief comments to explain your process. A blank code cell is provided after each section that requires code. A markdown cell is provided after each code block and the devotional section.\n",
    "\n",
    "*****\n",
    "\n",
    "### **The Scenario**\n",
    "\n",
    "You are a junior data scientist assisting a marine biologist who is studying penguin populations. They have collected data on three different penguin species from three different islands in the Palmer Archipelago. Your task is to use pandas and seaborn to visualize this data and uncover insights about the differences between the species.\n",
    "\n",
    "\n",
    "*****\n",
    "\n",
    "### **The Assignment**\n",
    "\n",
    "#### Step 1: Data Loading and Inspection\n",
    "\n",
    "- **Load the Dataset:** Load the `penguins` dataset directly from the seaborn library. Store it in a pandas DataFrame called `penguins_df`. (Note we showed how to load this exact dataset in the seaborn tutorial.)\n"
   ]
  },
  {
   "cell_type": "code",
   "execution_count": null,
   "id": "61110eb8",
   "metadata": {},
   "outputs": [],
   "source": [
    "# Code Goes Here"
   ]
  },
  {
   "cell_type": "markdown",
   "id": "c3c254db",
   "metadata": {},
   "source": [
    "- **Inspect the Data:** Display the first five rows of the DataFrame to understand the columns. Use the `.info()` method to check for data types and missing values. Note that this dataset contains a few `NaN` values, which is common in real-world data.\n"
   ]
  },
  {
   "cell_type": "code",
   "execution_count": null,
   "id": "380ac581",
   "metadata": {},
   "outputs": [],
   "source": [
    "# Code Goes Here"
   ]
  },
  {
   "cell_type": "markdown",
   "id": "048df5aa",
   "metadata": {},
   "source": [
    "#### Step 2: Univariate Analysis (Individual Variables)\n",
    "\n",
    "- **Distribution of Bill Length:** Create a histogram of the `bill_length_mm` column. What does the distribution tell you about the typical bill length of the penguins in this dataset? Is the distribution unimodal or multimodal?\n"
   ]
  },
  {
   "cell_type": "code",
   "execution_count": null,
   "id": "337a230f",
   "metadata": {},
   "outputs": [],
   "source": [
    "# Code Goes Here"
   ]
  },
  {
   "cell_type": "markdown",
   "id": "c4da7de4",
   "metadata": {},
   "source": [
    "Explanation Goes Here"
   ]
  },
  {
   "cell_type": "markdown",
   "id": "842024a2",
   "metadata": {},
   "source": [
    "- **Distribution of Species:** Use a column chart to show the number of penguins for each `species`. Which species is the most prevalent in the dataset?"
   ]
  },
  {
   "cell_type": "code",
   "execution_count": null,
   "id": "95c10278",
   "metadata": {},
   "outputs": [],
   "source": [
    "# Code Goes Here"
   ]
  },
  {
   "cell_type": "markdown",
   "id": "4d96898b",
   "metadata": {},
   "source": [
    "Explanation Goes Here"
   ]
  },
  {
   "cell_type": "markdown",
   "id": "5fd06816",
   "metadata": {},
   "source": [
    "#### Step 3: Bivariate and Multivariate Analysis (Relationships)\n",
    "\n",
    "- **Bill vs. Flipper Length:** Create a scatterplot with bill_length_mm on the x-axis and flipper_length_mm on the y-axis. What kind of relationship do you observe between these two variables?\n"
   ]
  },
  {
   "cell_type": "code",
   "execution_count": null,
   "id": "e62354d1",
   "metadata": {},
   "outputs": [],
   "source": [
    "# Code Goes Here"
   ]
  },
  {
   "cell_type": "markdown",
   "id": "664f79e0",
   "metadata": {},
   "source": [
    "Explanation Goes Here"
   ]
  },
  {
   "cell_type": "markdown",
   "id": "fbe80448",
   "metadata": {},
   "source": [
    "- **Bill vs. Flipper Length by Species:** Enhance the previous scatterplot by using the species column to differentiate data points. Use a different color for each species. Does the relationship between bill and flipper length vary by species?"
   ]
  },
  {
   "cell_type": "code",
   "execution_count": null,
   "id": "4510615f",
   "metadata": {},
   "outputs": [],
   "source": [
    "# Code Goes Here"
   ]
  },
  {
   "cell_type": "markdown",
   "id": "50842051",
   "metadata": {},
   "source": [
    "Explanation Goes here"
   ]
  },
  {
   "cell_type": "markdown",
   "id": "43e3ab12",
   "metadata": {},
   "source": [
    "- **Flipper Length by Island:** Create a violin plot to show the distribution of flipper_length_mm for each island. This plot will give you a detailed view of the data's density and spread for each location. What can you conclude about the flipper length of penguins living on different islands?"
   ]
  },
  {
   "cell_type": "code",
   "execution_count": null,
   "id": "bbb4a166",
   "metadata": {},
   "outputs": [],
   "source": [
    "# Code Goes Here"
   ]
  },
  {
   "cell_type": "markdown",
   "id": "7630914f",
   "metadata": {},
   "source": [
    "Explanation Goes Here"
   ]
  },
  {
   "cell_type": "markdown",
   "id": "6b58a315",
   "metadata": {},
   "source": [
    "*****\n",
    "\n",
    "#### Step 4: Final Touches and Interpretation\n",
    "\n",
    "- **Labels and Titles:** For every plot, ensure you have a clear title and meaningful x and y labels.\n",
    "\n",
    "- **Interpretation:** For each plot you create, write a brief sentence or two explaining what the plot shows and what conclusions you can draw from it.\n"
   ]
  },
  {
   "cell_type": "markdown",
   "id": "9fb1c7d4",
   "metadata": {},
   "source": [
    "-----\n",
    "\n",
    "### **Devotional and Reflection**\n",
    "\n",
    "*\"If any of you lacks wisdom, you should ask God, who gives generously to all without finding fault, and it will be given to you.\"*\n",
    "\n",
    "*&mdash; James 1:5 (NIV)*\n",
    "\n",
    "#### **Faith Reflection:** \n",
    "The most effective data visualizations tell a simple, true story (e.g., 'Tip increases with bill size'). In your life right now, what is one complex or confusing 'data set' (a relationship, a decision, a habit) you are facing? What steps can you take to \"filter,\" \"plot,\" or \"visualize\" that issue in a simple, clear way to find the underlying truth and take action?\n",
    "\n"
   ]
  },
  {
   "cell_type": "markdown",
   "id": "5d24136c",
   "metadata": {},
   "source": [
    "#### **Response:**"
   ]
  }
 ],
 "metadata": {
  "kernelspec": {
   "display_name": "cis3803",
   "language": "python",
   "name": "python3"
  },
  "language_info": {
   "codemirror_mode": {
    "name": "ipython",
    "version": 3
   },
   "file_extension": ".py",
   "mimetype": "text/x-python",
   "name": "python",
   "nbconvert_exporter": "python",
   "pygments_lexer": "ipython3",
   "version": "3.13.5"
  }
 },
 "nbformat": 4,
 "nbformat_minor": 5
}
