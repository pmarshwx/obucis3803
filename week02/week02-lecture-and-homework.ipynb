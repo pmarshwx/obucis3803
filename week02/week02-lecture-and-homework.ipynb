{
 "cells": [
  {
   "cell_type": "markdown",
   "id": "2118e262",
   "metadata": {},
   "source": [
    "<div style=\"text-align:center;\">\n",
    "    <div style=\"font-size: 24pt; font-weight:bold;\">\n",
    "        Introduction to Data Science (CIS 3813)<br>\n",
    "        Fall 2025\n",
    "    </div>\n",
    "    <div style=\"font-size: 18pt;\">\n",
    "        Week 2: Python for Data Science\n",
    "    </div>\n",
    "</div>"
   ]
  },
  {
   "cell_type": "markdown",
   "id": "45b5f0a6",
   "metadata": {},
   "source": [
    "**Date:** 08 September 2025  \n",
    "**Time:** 6:00–9:00 PM  \n",
    "**Instructor:** Dr. Patrick T. Marsh  \n",
    "\n",
    "This notebook provides a crash course in Python, Numpy, Pandas, and Matplotlib. It should be enough to get you going for the semester.\n",
    "\n",
    "### **Learning goals**\n",
    "- \n",
    "- \n",
    "- "
   ]
  },
  {
   "cell_type": "markdown",
   "id": "b1ad1fa4",
   "metadata": {},
   "source": [
    "## **Agenda (Week 2)**\n",
    "1. "
   ]
  },
  {
   "cell_type": "markdown",
   "id": "a8d44a4b",
   "metadata": {},
   "source": []
  }
 ],
 "metadata": {
  "kernelspec": {
   "display_name": "cis3803",
   "language": "python",
   "name": "python3"
  },
  "language_info": {
   "codemirror_mode": {
    "name": "ipython",
    "version": 3
   },
   "file_extension": ".py",
   "mimetype": "text/x-python",
   "name": "python",
   "nbconvert_exporter": "python",
   "pygments_lexer": "ipython3",
   "version": "3.13.5"
  }
 },
 "nbformat": 4,
 "nbformat_minor": 5
}
