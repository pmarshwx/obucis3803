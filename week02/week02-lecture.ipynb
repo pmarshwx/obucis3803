{
 "cells": [
  {
   "cell_type": "markdown",
   "id": "8174e519",
   "metadata": {},
   "source": [
    "<center>\n",
    "\n",
    "# **Fall 2025 &mdash; CIS 3803<br>Introduction to Data Science**\n",
    "### Week 2: Python for Data Science\n",
    "\n",
    "</center>"
   ]
  },
  {
   "cell_type": "markdown",
   "id": "45b5f0a6",
   "metadata": {},
   "source": [
    "**Date:** 08 September 2025  \n",
    "**Time:** 6:00–9:00 PM  \n",
    "**Instructor:** Dr. Patrick T. Marsh  \n",
    "**Course Verse:** “It is the glory of God to conceal a matter; to search out a matter is the glory of kings.” &mdash; *Proverbs 25:2 (NIV)*\n",
    "\n",
    "This notebook provides a crash course in Python, Numpy, Pandas, and Matplotlib. It should be enough to get you going for the semester.\n",
    "\n",
    "****\n",
    "\n",
    "## **Learning goals**\n",
    "\n",
    "- Refresh Python programming (functions, loops, conditionals)\n",
    "- Learn how to use **NumPy** for arrays, vectorization, and efficient numerical computation\n",
    "- Load and inspect datasets into Pandas\n",
    "- Apply filtering, grouping, aggregation, and basic plotting to uncover meaningful patterns\n",
    "- Connect technical skills to biblical principles of **truth**, **stewardship**, and **service**.\n",
    "\n",
    "## **Today's Outline**\n",
    "1. [Opening Devotional and Reflection](#opening-devotional-and-reflection)\n",
    "2. [Python Crash Course](#python-crash-course)\n",
    "3. [NumPy](#numpy)\n",
    "4. [Pandas](#pandas)\n",
    "5. [Mini Lab](#mini-lab)\n",
    "6. [Ethical Reflection](#ethical-reflection)\n",
    "7. Homework #2:\n"
   ]
  },
  {
   "cell_type": "markdown",
   "id": "58dd2a51",
   "metadata": {},
   "source": [
    "****\n",
    "\n",
    "## **Opening Devotional and Reflection**\n",
    "\n",
    "#### **Faith Reflection:** \n",
    "God is a God of order, and data science helps us uncover patterns (order) in creation. In 2-3 sentences, how could data skills helps you seek truth and serve others?"
   ]
  },
  {
   "cell_type": "markdown",
   "id": "41f91c91",
   "metadata": {},
   "source": [
    "#### **Response:**\n",
    "\n",
    "... Goes Here ..."
   ]
  },
  {
   "cell_type": "markdown",
   "id": "a8d44a4b",
   "metadata": {},
   "source": [
    "****\n",
    "\n",
    "## **Python Crash Course**\n",
    "As I mentioned in our first class, we will leverage open source material to augment our learning in this course. For this week the following books/chapters will be of use as supplemental material.\n",
    "\n",
    "* *[A Whirlwind Tour of Python](https://jakevdp.github.io/WhirlwindTourOfPython/)* by Jake VanderPlas (Jupyter [Notebooks](https://github.com/jakevdp/WhirlwindTourOfPython/tree/master) can be found on GitHub)\n",
    "    * [Introduction](https://jakevdp.github.io/WhirlwindTourOfPython/00-introduction.html)\n",
    "    * [How to Run Python Code](https://jakevdp.github.io/WhirlwindTourOfPython/01-how-to-run-python-code.html)\n",
    "    * [Basic Python Syntax](https://jakevdp.github.io/WhirlwindTourOfPython/02-basic-python-syntax.html)\n",
    "    * [Python Semantics: Variables](https://jakevdp.github.io/WhirlwindTourOfPython/03-semantics-variables.html)\n",
    "    * [Python Semantics: Operators](https://jakevdp.github.io/WhirlwindTourOfPython/04-semantics-operators.html)\n",
    "    * [Built-in Scalar Types](https://jakevdp.github.io/WhirlwindTourOfPython/05-built-in-scalar-types.html)\n",
    "    * [Built-in Data Structures](https://jakevdp.github.io/WhirlwindTourOfPython/06-built-in-data-structures.html)\n",
    "    * [Control Flow Statements](https://jakevdp.github.io/WhirlwindTourOfPython/07-control-flow-statements.html)\n",
    "    * [Defining Functions](https://jakevdp.github.io/WhirlwindTourOfPython/08-defining-functions.html)\n",
    "    * [Errors and Exceptions](https://jakevdp.github.io/WhirlwindTourOfPython/09-errors-and-exceptions.html)\n",
    "    * [Iterators](https://jakevdp.github.io/WhirlwindTourOfPython/10-iterators.html)\n",
    "    * [List Comprehensions](https://jakevdp.github.io/WhirlwindTourOfPython/11-list-comprehensions.html)\n",
    "    * [Generators and Generator Expressions](https://jakevdp.github.io/WhirlwindTourOfPython/12-generators.html)\n",
    "    * [Modules and Packages](https://jakevdp.github.io/WhirlwindTourOfPython/13-modules-and-packages.html)\n",
    "    * [Strings and Regular Expressions](https://jakevdp.github.io/WhirlwindTourOfPython/14-strings-and-regular-expressions.html)\n",
    "* *[Python Data Science Handbook](https://jakevdp.github.io/PythonDataScienceHandbook/index.html)* by Jake VanderPlas (Jupyter [Notebooks](https://github.com/jakevdp/PythonDataScienceHandbook/tree/master/notebooks) can be found on GitHub)\n",
    "    * [Chapter 1: IPython: Beyond Normal Python](https://jakevdp.github.io/PythonDataScienceHandbook/01.00-ipython-beyond-normal-python.html)\n",
    "    * [Chapter 2: Introduction to NumPy](https://jakevdp.github.io/PythonDataScienceHandbook/02.00-introduction-to-numpy.html)\n",
    "    * [Chapter 3: Data Manipulation with Pandas](https://jakevdp.github.io/PythonDataScienceHandbook/03.00-introduction-to-pandas.html) (portions of)\n",
    "* *[Python for Data Analysis](https://wesmckinney.com/book/)* by Wes McKinney (Jupyter [Notebooks](https://github.com/wesm/pydata-book/tree/3rd-edition) of all code examples can be found on GitHub)\n",
    "    * [Chapter 2: Python Language Basics, IPython, and Jupyter Notebooks](https://wesmckinney.com/book/python-basics)\n",
    "    * [Chapter 3: Built-in Data Structures, Functions, and Files](https://wesmckinney.com/book/python-builtin)\n",
    "    * [Chapter 4: NumPy Basics: Arrays and Vectorized Computing](https://wesmckinney.com/book/numpy-basics)\n",
    "    * [Chapter 5: Getting Started with Pandas](https://wesmckinney.com/book/pandas-basics)\n",
    "\n",
    "### **Understanding Python Namespaces**\n",
    "\n",
    "In Python, a ***namespace*** refers to a container that holds a mapping between names (identifiers) and objects. It ensures that names are unique and prevents naming conflicts. Python has several types of namespaces, each with a different scope:\n",
    "\n",
    "1. **Built-in Namespace**\n",
    "   - Contains names like `len()`, `print()`, and `int`.\n",
    "   - Created when the Python interpreter starts.\n",
    "\n",
    "2. **Global Namespace**\n",
    "   - Contains names defined at the top-level of a module or script.\n",
    "   - Created when a module is loaded.\n",
    "\n",
    "3. **Local Namespace**\n",
    "   - Contains names defined inside a function.\n",
    "   - Created when the function is called and destroyed when the function exits.\n",
    "\n",
    "#### **LEGB Rule**\n",
    "\n",
    "Python resolves names using the **LEGB** rule, which stands for:\n",
    "\n",
    "- **L**ocal — Names assigned within a function.\n",
    "- **E**nclosing — Names in enclosing functions (nested functions).\n",
    "- **G**lobal — Names at the module level.\n",
    "- **B**uilt-in — Names in the built-in namespace."
   ]
  },
  {
   "cell_type": "markdown",
   "id": "1b5f0067",
   "metadata": {},
   "source": [
    "#### **Why Namespaces Matter**\n",
    "Namespaces help avoid collisions between identifiers and make code more modular and readable. They are fundamental to understanding scope and variable lifetime in Python.\n",
    "\n",
    "#### **Namespace Example:**"
   ]
  },
  {
   "cell_type": "code",
   "execution_count": 1,
   "id": "8ec3f18e",
   "metadata": {},
   "outputs": [
    {
     "name": "stdout",
     "output_type": "stream",
     "text": [
      "Called from inside inner(): local\n",
      "Called from inside outer() but outside inner(): enclosing\n",
      "Called from outside inner() and outer(): global\n"
     ]
    }
   ],
   "source": [
    "x = \"global\"\n",
    "\n",
    "def outer():\n",
    "    x = \"enclosing\"\n",
    "\n",
    "    def inner():\n",
    "        x = \"local\"\n",
    "        print(\"Called from inside inner():\", x)\n",
    "\n",
    "    inner()\n",
    "    print(\"Called from inside outer() but outside inner():\", x)\n",
    "outer()\n",
    "print(\"Called from outside inner() and outer():\", x)\n"
   ]
  },
  {
   "cell_type": "markdown",
   "id": "bb32f3e6",
   "metadata": {},
   "source": [
    "****\n",
    "\n",
    "## **NumPy**"
   ]
  },
  {
   "cell_type": "markdown",
   "id": "62909d0e",
   "metadata": {},
   "source": [
    "****\n",
    "\n",
    "## **Pandas**"
   ]
  },
  {
   "cell_type": "markdown",
   "id": "40a20bc1",
   "metadata": {},
   "source": [
    "****\n",
    "\n",
    "## **Mini Lab**"
   ]
  },
  {
   "cell_type": "markdown",
   "id": "04833d2d",
   "metadata": {},
   "source": [
    "****\n",
    "\n",
    "## **Ethical Reflection**\n",
    "\n",
    "\"speak truthfully\" (*Ephesians 4:25 (NIV)*) and \"act justly, love mercy, and walk humbly (*Micah 6:8*)\n",
    "\n",
    "**Prompt:** How can truthful handling of data serve the common good?"
   ]
  },
  {
   "cell_type": "markdown",
   "id": "98837f56",
   "metadata": {},
   "source": [
    "****\n",
    "\n",
    "## **HW 2: Python for Data Science** "
   ]
  }
 ],
 "metadata": {
  "kernelspec": {
   "display_name": "cis3803",
   "language": "python",
   "name": "python3"
  },
  "language_info": {
   "codemirror_mode": {
    "name": "ipython",
    "version": 3
   },
   "file_extension": ".py",
   "mimetype": "text/x-python",
   "name": "python",
   "nbconvert_exporter": "python",
   "pygments_lexer": "ipython3",
   "version": "3.13.5"
  }
 },
 "nbformat": 4,
 "nbformat_minor": 5
}
