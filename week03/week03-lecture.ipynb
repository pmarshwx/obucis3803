{
 "cells": [
  {
   "cell_type": "markdown",
   "id": "8174e519",
   "metadata": {},
   "source": [
    "<center>\n",
    "\n",
    "# **Fall 2025 &mdash; CIS 3803<br>Introduction to Data Science**\n",
    "### Week 3: Data Collection & Cleaning\n",
    "\n",
    "</center>"
   ]
  },
  {
   "cell_type": "markdown",
   "id": "45b5f0a6",
   "metadata": {},
   "source": [
    "**Date:** 15 September 2025  \n",
    "**Time:** 6:00–9:00 PM  \n",
    "**Instructor:** Dr. Patrick T. Marsh  \n",
    "**Course Verse:** “It is the glory of God to conceal a matter; to search out a matter is the glory of kings.” &mdash; *Proverbs 25:2 (NIV)*\n",
    "\n",
    "This notebook provides a crash course in Pandas and begins to cover the skills needed to be successful in data science &ndash; namely, collecting and cleaning data!\n",
    "\n",
    "****\n",
    "\n",
    "## **Learning goals**\n",
    "\n",
    "\n",
    "## **Today's Outline**\n"
   ]
  },
  {
   "cell_type": "markdown",
   "id": "58dd2a51",
   "metadata": {},
   "source": [
    "****\n",
    "\n",
    "## **Opening Devotional and Reflection**\n",
    "\n",
    "#### **Faith Reflection:** \n"
   ]
  },
  {
   "cell_type": "markdown",
   "id": "62909d0e",
   "metadata": {},
   "source": [
    "****\n",
    "\n",
    "## **Pandas**"
   ]
  }
 ],
 "metadata": {
  "kernelspec": {
   "display_name": "cis3803",
   "language": "python",
   "name": "python3"
  },
  "language_info": {
   "codemirror_mode": {
    "name": "ipython",
    "version": 3
   },
   "file_extension": ".py",
   "mimetype": "text/x-python",
   "name": "python",
   "nbconvert_exporter": "python",
   "pygments_lexer": "ipython3",
   "version": "3.13.5"
  }
 },
 "nbformat": 4,
 "nbformat_minor": 5
}
