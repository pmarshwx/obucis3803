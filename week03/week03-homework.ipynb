{
 "cells": [
  {
   "cell_type": "markdown",
   "id": "8174e519",
   "metadata": {},
   "source": [
    "<center>\n",
    "\n",
    "# **Fall 2025 &mdash; CIS 3803<br>Introduction to Data Science**\n",
    "### Week 3 Homework: Playing with Pandas\n",
    "\n",
    "</center>"
   ]
  },
  {
   "cell_type": "markdown",
   "id": "45b5f0a6",
   "metadata": {},
   "source": [
    "**Assigned Date:** 15 September 2025  \n",
    "**Due Date:** 22 September 2025 @ 6 PM CT\n",
    "\n",
    "Please upload your Jupyter Notebook and necessary data files to Canvas."
   ]
  },
  {
   "cell_type": "markdown",
   "id": "1fdb0a26",
   "metadata": {},
   "source": [
    "## Homework Assignment: Pandas Crash Course\n",
    "\n",
    "**Instructions:**\n",
    "Rename this Jupyter Notebook `yourlastname_week03_homework.ipynb`. For this assignment, you will work with a provided sales dataset. Complete each section by writing the required code in separate cells. Add brief comments to explain your process. A blank code cell is provided after each section that requires code. A markdown cell is provided after the devotional section.\n",
    "\n",
    "-----\n",
    "\n",
    "### **Part 1: Data Acquisition and Inspection**\n",
    "\n",
    "**Problem 1: Create and Load the Data**\n",
    "First, create the following CSV file. Copy the text below into a file named `sales_data.csv` in the same directory as your Jupyter Notebook.\n",
    "\n",
    "```\n",
    "product,category,sales,region,month\n",
    "A,Electronics,150,North,Jan\n",
    "B,Apparel,200,South,Jan\n",
    "C,Electronics,250,North,Feb\n",
    "A,Electronics,,South,Feb\n",
    "B,Apparel,180,North,Mar\n",
    "D,Apparel,220,South,Mar\n",
    "C,Electronics,300,,Apr\n",
    "A,Electronics,150,North,Apr\n",
    "B,Apparel,200,South,Jan\n",
    "```\n",
    "\n",
    "Load this data into a pandas DataFrame named `sales_df` using `pd.read_csv()`.\n",
    "\n"
   ]
  },
  {
   "cell_type": "code",
   "execution_count": null,
   "id": "61110eb8",
   "metadata": {},
   "outputs": [],
   "source": [
    "# Code Goes Here"
   ]
  },
  {
   "cell_type": "markdown",
   "id": "048df5aa",
   "metadata": {},
   "source": [
    "**Problem 2: Initial Inspection**\n",
    "After loading the data, perform the following initial inspection to understand its structure and quality:\n",
    "\n",
    "1.  Display the first 5 rows of the DataFrame using `.head()`.\n",
    "2.  Get a summary of the DataFrame, including the data types and non-null counts, using `.info()`.\n",
    "3.  Calculate the number of missing values for each column using a combination of `.isnull()` and `.sum()`.\n",
    "\n"
   ]
  },
  {
   "cell_type": "code",
   "execution_count": null,
   "id": "337a230f",
   "metadata": {},
   "outputs": [],
   "source": [
    "# Code Goes Here"
   ]
  },
  {
   "cell_type": "markdown",
   "id": "5fd06816",
   "metadata": {},
   "source": [
    "-----\n",
    "\n",
    "### **Part 2: Data Cleaning and Manipulation**\n",
    "\n",
    "**Problem 3: Handle Missing Values**\n",
    "Based on your inspection in Part 1, you should see missing values in two columns.\n",
    "\n",
    "1.  For the `sales` column, fill the missing value with the **median** of the sales column.\n",
    "2.  For the `region` column, fill the missing value with the string `'Unknown'`.\n",
    "3.  Display the DataFrame to confirm the values have been filled.\n",
    "\n"
   ]
  },
  {
   "cell_type": "code",
   "execution_count": null,
   "id": "e62354d1",
   "metadata": {},
   "outputs": [],
   "source": [
    "# Code Goes Here"
   ]
  },
  {
   "cell_type": "markdown",
   "id": "fbe80448",
   "metadata": {},
   "source": [
    "**Problem 4: Remove Duplicate Records**\n",
    "You might have noticed a duplicate row in the original data.\n",
    "\n",
    "1.  Remove any **exact duplicate rows** from the DataFrame.\n",
    "2.  Display the updated DataFrame and confirm the duplicate has been removed.\n",
    "\n"
   ]
  },
  {
   "cell_type": "code",
   "execution_count": null,
   "id": "4510615f",
   "metadata": {},
   "outputs": [],
   "source": [
    "# Code Goes Here"
   ]
  },
  {
   "cell_type": "markdown",
   "id": "43e3ab12",
   "metadata": {},
   "source": [
    "**Problem 5: Data Transformation**\n",
    "Create a new column called `sales_per_unit` that is calculated by dividing the `sales` column by 10 (assume a unit size of 10 for simplicity). Display the DataFrame with the new column.\n",
    "\n"
   ]
  },
  {
   "cell_type": "code",
   "execution_count": null,
   "id": "bbb4a166",
   "metadata": {},
   "outputs": [],
   "source": [
    "# Code Goes Here"
   ]
  },
  {
   "cell_type": "markdown",
   "id": "6b58a315",
   "metadata": {},
   "source": [
    "-----\n",
    "\n",
    "### **Part 3: Analysis and Aggregation**\n",
    "\n",
    "**Problem 6: Grouping and Aggregation**\n",
    "Using the cleaned DataFrame from Part 2, answer the following questions by grouping and aggregating the data:\n",
    "\n",
    "1.  Calculate the **total sales** for each `category` using `.groupby()` and `.sum()`.\n",
    "2.  Calculate the **average sales** for each `region` using `.groupby()` and `.mean()`.\n",
    "3.  For each `category`, find the **maximum** and **minimum** sales values. Use the `.agg()` method to calculate both in a single step. Display the results.\n",
    "\n"
   ]
  },
  {
   "cell_type": "code",
   "execution_count": null,
   "id": "7aafa459",
   "metadata": {},
   "outputs": [],
   "source": [
    "# Code Goes Here"
   ]
  },
  {
   "cell_type": "markdown",
   "id": "e134a5c5",
   "metadata": {},
   "source": [
    "-----\n",
    "\n",
    "### **Part 4: Putting it Together**\n",
    "\n",
    "In however many cells needed below, please read in the CSV file, `homework-input-data.csv` and output an Excel Spreadsheet that is formatted to look like the included file: `homework-output-data.xlsx`.\n",
    "\n",
    "Some information that will be useful:\n",
    "\n",
    "1. Determine the number of unique values in the `kind` column. Each of these entries will be it's own grouping of Excel sheets. There will be one my grouping for \"all\", which will be the summation of the other groupings\n",
    "2. Determine the number of unique values in the `pds` column. This number, plus one more for \"all\" will be the number of sheets within each grouping. The \"all\" sheet is the sum of the other sheets in the groupings. \n",
    "3. The index for each sheet needs to be the year. Except for the last row, which should be `total`.\n",
    "4. Each row (year) needs to have a `total` column.\n",
    "\n"
   ]
  },
  {
   "cell_type": "code",
   "execution_count": null,
   "id": "7fede4d1",
   "metadata": {},
   "outputs": [],
   "source": [
    "# Code Goes Here"
   ]
  },
  {
   "cell_type": "markdown",
   "id": "9fb1c7d4",
   "metadata": {},
   "source": [
    "-----\n",
    "\n",
    "### **Part 5: Devotional and Reflection**\n",
    "\n",
    "*\"The Spirit you received does not make you slaves, so that you live in fear again; rather, the Spirit you received brought about your adoption to sonship. And by him we cry, 'Abba, Father.'\"*\n",
    "\n",
    "**&mdash; Romans 8:15 (NIV)**\n",
    "\n",
    "#### **Faith Reflection:** \n",
    "As we continue our work with data, we often face a spirit of fear—fear of messy data, fear of making mistakes, or the fear that our skills aren't good enough. This can make us feel like slaves to the process. But today's verse reminds us that we are adopted as God’s children. He has not given us a spirit of fear, but a spirit of love and a sound mind. As we face the tedious and often frustrating task of data cleaning and preparation, we can trust that we have the wisdom and patience to bring order out of chaos. How can you approach this week's data wrangling challenge with a spirit of confidence, knowing that God has equipped you for the task? Please answer with a few sentences (or more!).\n",
    "\n"
   ]
  },
  {
   "cell_type": "markdown",
   "id": "5d24136c",
   "metadata": {},
   "source": [
    "#### **Response:**"
   ]
  }
 ],
 "metadata": {
  "kernelspec": {
   "display_name": "cis3803",
   "language": "python",
   "name": "python3"
  },
  "language_info": {
   "codemirror_mode": {
    "name": "ipython",
    "version": 3
   },
   "file_extension": ".py",
   "mimetype": "text/x-python",
   "name": "python",
   "nbconvert_exporter": "python",
   "pygments_lexer": "ipython3",
   "version": "3.13.5"
  }
 },
 "nbformat": 4,
 "nbformat_minor": 5
}
